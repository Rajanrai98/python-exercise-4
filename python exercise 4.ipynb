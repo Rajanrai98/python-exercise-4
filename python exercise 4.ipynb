{
 "cells": [
  {
   "cell_type": "code",
   "execution_count": null,
   "id": "f37b130c",
   "metadata": {},
   "outputs": [],
   "source": [
    "## convert a given string to int using a single line of code\n"
   ]
  },
  {
   "cell_type": "code",
   "execution_count": null,
   "id": "bcab88ff",
   "metadata": {},
   "outputs": [],
   "source": [
    "a = \"10\"\n",
    "type(a)"
   ]
  },
  {
   "cell_type": "code",
   "execution_count": null,
   "id": "933b79e3",
   "metadata": {},
   "outputs": [],
   "source": [
    "a = int(a)\n",
    "type(a)"
   ]
  },
  {
   "cell_type": "code",
   "execution_count": null,
   "id": "cc1217f6",
   "metadata": {},
   "outputs": [],
   "source": [
    "string = \"my name is rajan rai:\"\n",
    "str_list = list(string)"
   ]
  },
  {
   "cell_type": "code",
   "execution_count": null,
   "id": "6d9c8908",
   "metadata": {},
   "outputs": [],
   "source": [
    "type(str_list)"
   ]
  },
  {
   "cell_type": "code",
   "execution_count": null,
   "id": "d31bbed1",
   "metadata": {},
   "outputs": [],
   "source": [
    "string = \"my name is rajan rai\"\n",
    "reverse = string[::-1]\n",
    "print(reverse)"
   ]
  },
  {
   "cell_type": "code",
   "execution_count": null,
   "id": "dfcc88ba",
   "metadata": {},
   "outputs": [],
   "source": [
    "string = \"my name is rajan rai\"\n",
    "reverse = string[::-1]\n",
    "print(reverse)"
   ]
  },
  {
   "cell_type": "code",
   "execution_count": null,
   "id": "bccaa2a7",
   "metadata": {},
   "outputs": [],
   "source": [
    "my_list = [10,9,8,7,6,5,4,3,2,1]\n",
    "my_list.sort()"
   ]
  },
  {
   "cell_type": "code",
   "execution_count": null,
   "id": "8909eb04",
   "metadata": {},
   "outputs": [],
   "source": [
    "import os"
   ]
  },
  {
   "cell_type": "code",
   "execution_count": null,
   "id": "638b342e",
   "metadata": {},
   "outputs": [],
   "source": [
    "lst = [1,2,3,4,5,6,7,8,9]\n",
    "lst[0:3]"
   ]
  },
  {
   "cell_type": "code",
   "execution_count": null,
   "id": "60615884",
   "metadata": {},
   "outputs": [],
   "source": [
    "lst[-1:]"
   ]
  },
  {
   "cell_type": "code",
   "execution_count": null,
   "id": "8f8dfc4c",
   "metadata": {},
   "outputs": [],
   "source": [
    "lst[::-1]"
   ]
  },
  {
   "cell_type": "code",
   "execution_count": null,
   "id": "a3784c76",
   "metadata": {},
   "outputs": [],
   "source": [
    "lst[:-4]"
   ]
  },
  {
   "cell_type": "code",
   "execution_count": null,
   "id": "39754d7c",
   "metadata": {},
   "outputs": [],
   "source": [
    "lst.remove(2)"
   ]
  },
  {
   "cell_type": "code",
   "execution_count": null,
   "id": "5d3b84bc",
   "metadata": {},
   "outputs": [],
   "source": [
    "def factorial(a):\n",
    "    if a==0:\n",
    "        return 1\n",
    "    else:\n",
    "        return(a*factorial(a-1))"
   ]
  },
  {
   "cell_type": "code",
   "execution_count": null,
   "id": "ba810440",
   "metadata": {},
   "outputs": [],
   "source": [
    "factorial(3)"
   ]
  },
  {
   "cell_type": "code",
   "execution_count": null,
   "id": "42ba5eef",
   "metadata": {},
   "outputs": [],
   "source": [
    "numbers = [2,3,4,5,7,12,45]\n",
    "max(numbers)\n",
    "        "
   ]
  },
  {
   "cell_type": "code",
   "execution_count": null,
   "id": "2b037d95",
   "metadata": {},
   "outputs": [],
   "source": [
    "string = \"hello,world!\"\n",
    "reverse = string[::-1]\n",
    "print(reverse)"
   ]
  },
  {
   "cell_type": "code",
   "execution_count": null,
   "id": "b95575bc",
   "metadata": {},
   "outputs": [],
   "source": [
    "def count_frequency(numbers):\n",
    "    frequency = {}\n",
    "    for num in numbers:\n",
    "        if num in frequency:\n",
    "            frequency[num]+=1\n",
    "        else:\n",
    "            frequency[num] = 1\n",
    "    return frequency"
   ]
  },
  {
   "cell_type": "code",
   "execution_count": null,
   "id": "7c283fc9",
   "metadata": {},
   "outputs": [],
   "source": [
    "num = [1,2,3,4,5,6,7,8,9,2,3,5,4,9,7]\n",
    "frequency_count = count_frequency(num)\n",
    "print(frequency_count)"
   ]
  },
  {
   "cell_type": "code",
   "execution_count": null,
   "id": "64974388",
   "metadata": {},
   "outputs": [],
   "source": [
    "def count_frequency(numbers):\n",
    "    frequency = {}\n",
    "    for num in numbers:\n",
    "        if num in frequency:\n",
    "            frequency[num]+=1\n",
    "        else:\n",
    "            frequency[num]=1\n",
    "    return frequency"
   ]
  },
  {
   "cell_type": "code",
   "execution_count": null,
   "id": "9fd5eaae",
   "metadata": {},
   "outputs": [],
   "source": [
    "lst = [1,2,3,4,5,6,2,3,4,5,7,78,91,2,3,44,5,6]\n",
    "count_frequency(lst)"
   ]
  },
  {
   "cell_type": "code",
   "execution_count": null,
   "id": "c93240f9",
   "metadata": {},
   "outputs": [],
   "source": [
    "num = int(input(\"enter the numbers:\"))\n",
    "for i in range(2,num):\n",
    "    if num%i==0:\n",
    "        print(\"this number is not a prime number\")\n",
    "else:\n",
    "    print(\"this numbers is a prime number\")"
   ]
  },
  {
   "cell_type": "code",
   "execution_count": null,
   "id": "b9dc426f",
   "metadata": {},
   "outputs": [],
   "source": [
    "def common_element(list1,list2):\n",
    "    common_element = []\n",
    "    for item in list1:\n",
    "        if item in list2:\n",
    "            common_element.append(item)\n",
    "    return common_element\n",
    "        \n",
    "        "
   ]
  },
  {
   "cell_type": "code",
   "execution_count": null,
   "id": "adbc997c",
   "metadata": {},
   "outputs": [],
   "source": [
    "lst1 = [2,3,4,5,6,7,8]\n",
    "lst2 = [2,4,3,5,6,7,1]\n",
    "common_element(lst,lst2)"
   ]
  },
  {
   "cell_type": "code",
   "execution_count": null,
   "id": "ca75cf40",
   "metadata": {},
   "outputs": [],
   "source": [
    "def remove_duplicates(numbers):\n",
    "    unique_numbers = []\n",
    "    for num in numbers:\n",
    "        if num not in unique_numbers:\n",
    "            unique_numbers.append(num)\n",
    "    return unique_numbers"
   ]
  },
  {
   "cell_type": "code",
   "execution_count": null,
   "id": "f715ec4a",
   "metadata": {},
   "outputs": [],
   "source": [
    "numbers = [1,2,3,4,5,6,7,8,9,10,11,12,3,4,5,6,7,8]\n",
    "unique_number = remove_duplicates(numbers)\n",
    "print(unique_number)"
   ]
  },
  {
   "cell_type": "code",
   "execution_count": null,
   "id": "18448a4f",
   "metadata": {},
   "outputs": [],
   "source": [
    "import decimal\n",
    "integer = 10\n",
    "print(decimal.Decimal(integer))\n",
    "print(type(decimal.Decimal(integer)))"
   ]
  },
  {
   "cell_type": "code",
   "execution_count": null,
   "id": "3fbb6fac",
   "metadata": {},
   "outputs": [],
   "source": [
    "string = '12345'\n",
    "print(decimal.Decimal(string))\n",
    "print(type(decimal.Decimal(string)))"
   ]
  },
  {
   "cell_type": "code",
   "execution_count": null,
   "id": "9da22054",
   "metadata": {},
   "outputs": [],
   "source": [
    "string = \"hello,world!,my name is roffers\"\n",
    "reverse = string[::-1]\n",
    "print(reverse)"
   ]
  },
  {
   "cell_type": "code",
   "execution_count": null,
   "id": "6ad9524d",
   "metadata": {},
   "outputs": [],
   "source": [
    "vowels = ['a','i','o','u','e']\n",
    "words = \"python programming\"\n",
    "count = 0\n",
    "for character in words:\n",
    "    if character in vowels:\n",
    "        count+=1\n",
    "print(count)"
   ]
  },
  {
   "cell_type": "code",
   "execution_count": null,
   "id": "c99dd6ab",
   "metadata": {},
   "outputs": [],
   "source": [
    "vowels = ['a','i','o','e','u']\n",
    "word = \"programming\"\n",
    "count = 0\n",
    "for character in word:\n",
    "    if character in vowels:\n",
    "        count+=1\n",
    "print(count)"
   ]
  },
  {
   "cell_type": "code",
   "execution_count": null,
   "id": "f227afe7",
   "metadata": {},
   "outputs": [],
   "source": [
    "vowels = ['a','i','o','e','u']\n",
    "words = \"python programming\"\n",
    "count = 0\n",
    "for character in words:\n",
    "    if character not in vowels:\n",
    "        count+=1\n",
    "print(count)"
   ]
  },
  {
   "cell_type": "code",
   "execution_count": 1,
   "id": "e387ce1b",
   "metadata": {},
   "outputs": [
    {
     "name": "stdout",
     "output_type": "stream",
     "text": [
      "enter the number:4\n",
      "0\n",
      "1\n",
      "1\n",
      "2\n",
      "3\n",
      "5\n"
     ]
    }
   ],
   "source": [
    "a = 0\n",
    "b = 1\n",
    "num = int(input(\"enter the number:\"))\n",
    "if num==1:\n",
    "    print(a)\n",
    "else:\n",
    "    print(a)\n",
    "    print(b)\n",
    "for i in range(1,num+1):\n",
    "    c = a+b\n",
    "    a = b\n",
    "    b = c\n",
    "    print(c)\n",
    "    \n",
    "\n"
   ]
  },
  {
   "cell_type": "code",
   "execution_count": 2,
   "id": "20aa405d",
   "metadata": {},
   "outputs": [
    {
     "name": "stdout",
     "output_type": "stream",
     "text": [
      "10\n"
     ]
    }
   ],
   "source": [
    "lst = [2,3,4,5,6,7,8,9,9,10]\n",
    "lst_new = max(lst)\n",
    "print(lst_new)"
   ]
  },
  {
   "cell_type": "code",
   "execution_count": 3,
   "id": "9557e606",
   "metadata": {},
   "outputs": [
    {
     "data": {
      "text/plain": [
       "2"
      ]
     },
     "execution_count": 3,
     "metadata": {},
     "output_type": "execute_result"
    }
   ],
   "source": [
    "lst = [2,3,4,5,6,7,8,9,9,10]\n",
    "min(lst)"
   ]
  },
  {
   "cell_type": "code",
   "execution_count": 6,
   "id": "db9281da",
   "metadata": {},
   "outputs": [
    {
     "name": "stdout",
     "output_type": "stream",
     "text": [
      "4\n"
     ]
    }
   ],
   "source": [
    "lst = [2,3,4,5,6,7,8,9,10]\n",
    "print(int(len(lst)/2))"
   ]
  },
  {
   "cell_type": "code",
   "execution_count": 7,
   "id": "97c4d44b",
   "metadata": {},
   "outputs": [
    {
     "name": "stdout",
     "output_type": "stream",
     "text": [
      "<class 'str'>\n"
     ]
    }
   ],
   "source": [
    "### convert list into string\n",
    "lst = ['a','b','d','w','e','f','s']\n",
    "string = ' '.join(lst)\n",
    "print(type(string))"
   ]
  },
  {
   "cell_type": "code",
   "execution_count": 11,
   "id": "954fcfdd",
   "metadata": {},
   "outputs": [
    {
     "name": "stdout",
     "output_type": "stream",
     "text": [
      "[5, 7, 9, 11, 13]\n"
     ]
    }
   ],
   "source": [
    "lst1 = [2,3,4,5,6]\n",
    "lst2 = [3,4,5,6,7]\n",
    "res_lst = []\n",
    "for i in range(0,len(lst1)):\n",
    "    res_lst.append(lst1[i]+lst2[i])\n",
    "print(res_lst)"
   ]
  },
  {
   "cell_type": "code",
   "execution_count": 12,
   "id": "a6dcefd7",
   "metadata": {},
   "outputs": [
    {
     "name": "stdout",
     "output_type": "stream",
     "text": [
      "[5, 7, 9, 12, 14, 9]\n"
     ]
    }
   ],
   "source": [
    "lst1 = [2,3,4,5,6,7]\n",
    "lst2 = [3,4,5,7,8,2]\n",
    "res_lst = []\n",
    "for i in range(0,len(lst1)):\n",
    "    res_lst.append(lst1[i]+lst2[i])\n",
    "print(res_lst)"
   ]
  },
  {
   "cell_type": "code",
   "execution_count": 14,
   "id": "bd2eec49",
   "metadata": {},
   "outputs": [
    {
     "name": "stdout",
     "output_type": "stream",
     "text": [
      "12\n"
     ]
    }
   ],
   "source": [
    "print(len(lst1)+len(lst2))"
   ]
  },
  {
   "cell_type": "code",
   "execution_count": 19,
   "id": "fac0d6d7",
   "metadata": {},
   "outputs": [
    {
     "name": "stdout",
     "output_type": "stream",
     "text": [
      "enter the numbers:3\n",
      "\n",
      " \n",
      "* \n",
      " \n",
      " \n",
      "* * \n",
      " \n",
      " \n",
      " \n"
     ]
    }
   ],
   "source": [
    "rows = int(input(\"enter the numbers:\"))\n",
    "for i in range(rows):\n",
    "    for j in range(1,i+1):\n",
    "        print(\"*\",end = \" \")\n",
    "    print(\"\")\n",
    "    for k in range(1,i+2):\n",
    "        print(\" \")"
   ]
  },
  {
   "cell_type": "code",
   "execution_count": 20,
   "id": "7e8c6c26",
   "metadata": {},
   "outputs": [
    {
     "name": "stdout",
     "output_type": "stream",
     "text": [
      " \n",
      "*  \n",
      "* *  \n",
      "* * *  \n"
     ]
    }
   ],
   "source": [
    "rowss = 5\n",
    "for i in range(rows+1):\n",
    "    for j in range(1,i+1):\n",
    "        print(\"*\" , end = \" \")\n",
    "    print(\" \")"
   ]
  },
  {
   "cell_type": "code",
   "execution_count": null,
   "id": "8255ee1b",
   "metadata": {},
   "outputs": [],
   "source": []
  },
  {
   "cell_type": "code",
   "execution_count": null,
   "id": "8dc5c25d",
   "metadata": {},
   "outputs": [],
   "source": []
  }
 ],
 "metadata": {
  "kernelspec": {
   "display_name": "Python 3 (ipykernel)",
   "language": "python",
   "name": "python3"
  },
  "language_info": {
   "codemirror_mode": {
    "name": "ipython",
    "version": 3
   },
   "file_extension": ".py",
   "mimetype": "text/x-python",
   "name": "python",
   "nbconvert_exporter": "python",
   "pygments_lexer": "ipython3",
   "version": "3.10.9"
  }
 },
 "nbformat": 4,
 "nbformat_minor": 5
}
